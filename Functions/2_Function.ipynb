{
 "cells": [
  {
   "cell_type": "code",
   "execution_count": 1,
   "metadata": {},
   "outputs": [
    {
     "name": "stdout",
     "output_type": "stream",
     "text": [
      "Hello NS LOONI\n"
     ]
    }
   ],
   "source": [
    "print(\"Hello NS LOONI\")"
   ]
  },
  {
   "cell_type": "code",
   "execution_count": null,
   "metadata": {},
   "outputs": [],
   "source": [
    "# 1. Temperature Conversion -->"
   ]
  },
  {
   "cell_type": "code",
   "execution_count": 4,
   "metadata": {},
   "outputs": [
    {
     "name": "stdout",
     "output_type": "stream",
     "text": [
      "86.0\n",
      "15.555555555555555\n"
     ]
    }
   ],
   "source": [
    "def con_temp(temp, unit):\n",
    "    \n",
    "    if unit == 'C':\n",
    "        return temp * 9/5 + 32\n",
    "    \n",
    "    elif unit == 'F':\n",
    "        return (temp-32) * 5/9\n",
    "    \n",
    "    else:\n",
    "        return None\n",
    "\n",
    "print(con_temp(30, 'C'))\n",
    "print(con_temp(60, 'F'))    "
   ]
  },
  {
   "cell_type": "code",
   "execution_count": null,
   "metadata": {},
   "outputs": [],
   "source": [
    "# 2. Password Strength Checker"
   ]
  },
  {
   "cell_type": "code",
   "execution_count": 6,
   "metadata": {},
   "outputs": [
    {
     "name": "stdout",
     "output_type": "stream",
     "text": [
      "More than 8 characters\n",
      "Correct Password\n"
     ]
    }
   ],
   "source": [
    "def is_strong_password(password):\n",
    "    \n",
    "    if len(password) < 8:\n",
    "        return \"More than 8 characters\"\n",
    "    if not any(char.isdigit() for char in password):\n",
    "        return \"No digit found in password\"\n",
    "    \n",
    "    if not any(char.islower() for char in password):\n",
    "        return \"No lower-case letter found in password\"\n",
    "   \n",
    "    if not any(char.isupper() for char in password):\n",
    "        return \"No no-upper-case letter found in password\"\n",
    "    \n",
    "    if not any(char in '!@#$%^&*()_+' for char in password):\n",
    "        return \"No special chars found in password\"\n",
    "    \n",
    "    return \"Correct Password\"\n",
    "\n",
    "print(is_strong_password(\"NSLONI\"))\n",
    "print(is_strong_password(\"NSloni@2005\"))"
   ]
  },
  {
   "cell_type": "code",
   "execution_count": null,
   "metadata": {},
   "outputs": [],
   "source": [
    "# 3. Calculate total item in a Shoping Cart"
   ]
  },
  {
   "cell_type": "code",
   "execution_count": null,
   "metadata": {},
   "outputs": [
    {
     "name": "stdout",
     "output_type": "stream",
     "text": [
      "300\n"
     ]
    }
   ],
   "source": [
    "def cal_total_cost(cart):\n",
    "    total_cost = 0\n",
    "    for item in cart:\n",
    "        total_cost = total_cost + item['price'] * item['count']\n",
    "        \n",
    "    return total_cost   \n",
    "    \n",
    "cart=[\n",
    "    {'name':'apple', 'price': 10, 'count': 10},\n",
    "    {'name':'banana', 'price': 20, 'count': 10}\n",
    "]    \n",
    "\n",
    "print(cal_total_cost(cart))  #  300"
   ]
  },
  {
   "cell_type": "code",
   "execution_count": null,
   "metadata": {},
   "outputs": [],
   "source": [
    "# 4. Palindrome or not"
   ]
  },
  {
   "cell_type": "code",
   "execution_count": 9,
   "metadata": {},
   "outputs": [
    {
     "name": "stdout",
     "output_type": "stream",
     "text": [
      "True\n",
      "False\n"
     ]
    }
   ],
   "source": [
    "def is_palindrome(s):\n",
    "    s = s.lower(). replace(\" \", \"\")\n",
    "    return s == s[::-1]\n",
    "\n",
    "print(is_palindrome(\"mam\"))\n",
    "print(is_palindrome('Hello'))"
   ]
  },
  {
   "cell_type": "code",
   "execution_count": null,
   "metadata": {},
   "outputs": [],
   "source": [
    "# Factorial"
   ]
  },
  {
   "cell_type": "code",
   "execution_count": 11,
   "metadata": {},
   "outputs": [
    {
     "name": "stdout",
     "output_type": "stream",
     "text": [
      "3628800\n",
      "720\n",
      "1\n"
     ]
    }
   ],
   "source": [
    "def factorial(n):\n",
    "    if n == 0:\n",
    "        return 1\n",
    "    \n",
    "    else:\n",
    "        return n * factorial(n-1)\n",
    "    \n",
    "print(factorial(10))\n",
    "print(factorial(6))\n",
    "print(factorial(1))    "
   ]
  },
  {
   "cell_type": "code",
   "execution_count": null,
   "metadata": {},
   "outputs": [],
   "source": [
    "# Read a file and count frequency of each Word"
   ]
  },
  {
   "cell_type": "code",
   "execution_count": 15,
   "metadata": {},
   "outputs": [
    {
     "name": "stdout",
     "output_type": "stream",
     "text": [
      "{'nagaraj': 1, 'loni': 1, 'age': 1, 'is': 1, '20': 1, 'and': 1, 'always': 1, 'sleeping': 1, '': 1}\n"
     ]
    }
   ],
   "source": [
    "def count_word_frwq(file_path):\n",
    "    word_count = {}\n",
    "    \n",
    "    with open(file_path,'r') as file:\n",
    "        for line in file:\n",
    "            words = line.split()\n",
    "            for word in words:\n",
    "                word = word.lower().strip('.,!?;')\n",
    "                word_count[word] = word_count.get(word, 0) + 1\n",
    "                \n",
    "    return word_count\n",
    "\n",
    "filepath = 'Function_Notes.txt'\n",
    "word_freq = count_word_frwq(filepath)\n",
    "print(word_freq)            \n",
    "            "
   ]
  },
  {
   "cell_type": "code",
   "execution_count": 16,
   "metadata": {},
   "outputs": [
    {
     "name": "stdout",
     "output_type": "stream",
     "text": [
      "tq\n"
     ]
    }
   ],
   "source": [
    "print(\"tq\")"
   ]
  }
 ],
 "metadata": {
  "kernelspec": {
   "display_name": "Python 3",
   "language": "python",
   "name": "python3"
  },
  "language_info": {
   "codemirror_mode": {
    "name": "ipython",
    "version": 3
   },
   "file_extension": ".py",
   "mimetype": "text/x-python",
   "name": "python",
   "nbconvert_exporter": "python",
   "pygments_lexer": "ipython3",
   "version": "3.12.8"
  }
 },
 "nbformat": 4,
 "nbformat_minor": 2
}
