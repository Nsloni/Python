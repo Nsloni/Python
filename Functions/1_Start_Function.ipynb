{
 "cells": [
  {
   "cell_type": "code",
   "execution_count": null,
   "metadata": {},
   "outputs": [
    {
     "name": "stdout",
     "output_type": "stream",
     "text": [
      "HeLLO GM\n"
     ]
    }
   ],
   "source": [
    "# Fuction is a block of code.reuse and improve readability\n",
    "\n",
    "print(\"HeLLO GM\")"
   ]
  },
  {
   "cell_type": "code",
   "execution_count": null,
   "metadata": {},
   "outputs": [
    {
     "name": "stdout",
     "output_type": "stream",
     "text": [
      "The Number is EVEN\n"
     ]
    }
   ],
   "source": [
    "''' \n",
    "    def function_name (parameters):\n",
    "        # Function Body\n",
    "        return expresion\n",
    "\n",
    "'''\n",
    "\n",
    "'''Sum function having return statement and sum other or not hahe\n",
    "an return name/statement'''\n",
    "\n",
    "# why--> Function -->\n",
    "\n",
    "# re-use\n",
    "\n",
    "def even_or_odd(num):\n",
    "    '''finding even or odd'''\n",
    "    if num % 2 == 0:\n",
    "        print(\"The Number is EVEN\")\n",
    "    else:\n",
    "        print(\"The Number is ODD\")    \n",
    "        \n",
    "# Call Function \n",
    "even_or_odd(20)        \n",
    "        "
   ]
  },
  {
   "cell_type": "code",
   "execution_count": 6,
   "metadata": {},
   "outputs": [
    {
     "name": "stdout",
     "output_type": "stream",
     "text": [
      "50\n"
     ]
    }
   ],
   "source": [
    "# No Call\n",
    "\n",
    "def add(a,b):\n",
    "    return a+b\n",
    "\n",
    "res = add(10,40)\n",
    "print(res)    "
   ]
  },
  {
   "cell_type": "code",
   "execution_count": 7,
   "metadata": {},
   "outputs": [
    {
     "name": "stdout",
     "output_type": "stream",
     "text": [
      "Hello : NS LONI \n"
     ]
    }
   ],
   "source": [
    "# 1.With Parameter\n",
    "\n",
    "def greet(name):\n",
    "    print(f\"Hello : {name} \")\n",
    "    \n",
    "greet(\"NS LONI\")    "
   ]
  },
  {
   "cell_type": "code",
   "execution_count": 10,
   "metadata": {},
   "outputs": [
    {
     "name": "stdout",
     "output_type": "stream",
     "text": [
      "Hello : NSLONI \n"
     ]
    }
   ],
   "source": [
    "# 2.Defalt Parameter\n",
    "def greet(name=\"NSLONI\"):\n",
    "    print(f\"Hello : {name} \")\n",
    "    \n",
    "greet()"
   ]
  },
  {
   "cell_type": "code",
   "execution_count": 11,
   "metadata": {},
   "outputs": [
    {
     "name": "stdout",
     "output_type": "stream",
     "text": [
      "Hello : NSLONI--2 \n"
     ]
    }
   ],
   "source": [
    "# 3.With/ Defalt Parameter\n",
    "def greet(name=\"NSLONI--1\"):\n",
    "    print(f\"Hello : {name} \")\n",
    "    \n",
    "greet(\"NSLONI--2\")"
   ]
  },
  {
   "cell_type": "code",
   "execution_count": null,
   "metadata": {},
   "outputs": [],
   "source": [
    "# Positional Argument\n",
    "\n",
    "def pos_arg(num1, num2, num3, num4, num5):\n",
    "    pass\n",
    "\n",
    "# -------------OR\n",
    "\n",
    "def pos_arg(*nsloni):\n",
    "    pass\n",
    "\n",
    "# -------------OR\n",
    "\n",
    "def pos_arg(*args):\n",
    "    pass\n"
   ]
  },
  {
   "cell_type": "code",
   "execution_count": 13,
   "metadata": {},
   "outputs": [
    {
     "name": "stdout",
     "output_type": "stream",
     "text": [
      "1\n",
      "2\n",
      "3\n",
      "NS LONI\n",
      "True\n",
      "12\n",
      "454\n",
      "4545\n",
      "GOOD MORNING\n"
     ]
    }
   ],
   "source": [
    "# Positional Argument\n",
    "\n",
    "def pos_arg(*args):\n",
    "    for i in args:\n",
    "        print(i)\n",
    "        \n",
    "pos_arg(1,2,3,\"NS LONI\", True,12,454,4545,\"GOOD MORNING\")\n",
    "        "
   ]
  },
  {
   "cell_type": "code",
   "execution_count": 18,
   "metadata": {},
   "outputs": [
    {
     "name": "stdout",
     "output_type": "stream",
     "text": [
      "name : Nagaraj Loni\n",
      "age : 21\n",
      "country : India\n"
     ]
    }
   ],
   "source": [
    "## Keyword Argument\n",
    "\n",
    "def key_arg(**keyarg):\n",
    "    for i,j in keyarg.items():\n",
    "        print(f\"{i} : {j}\")\n",
    "        \n",
    "key_arg(name=\"Nagaraj Loni\", age=21, country=\"India\")        "
   ]
  },
  {
   "cell_type": "code",
   "execution_count": 21,
   "metadata": {},
   "outputs": [
    {
     "name": "stdout",
     "output_type": "stream",
     "text": [
      "1\n",
      "2\n",
      "3\n",
      "NS LONI\n",
      "True\n",
      "12\n",
      "454\n",
      "4545\n",
      "GOOD MORNING\n",
      "name : Nagaraj Loni\n",
      "age : 21\n",
      "country : India\n"
     ]
    }
   ],
   "source": [
    "# Positional & # Keyword Argument\n",
    "\n",
    "def pos_arg(*args, **keyarg):\n",
    "    for a in args:\n",
    "        print(a)\n",
    "    for i,j in keyarg.items():\n",
    "        print(f\"{i} : {j}\")    \n",
    "        \n",
    "pos_arg(1,2,3,\"NS LONI\", True,12,454,4545,\"GOOD MORNING\",name=\"Nagaraj Loni\", age=21, country=\"India\")\n",
    " "
   ]
  },
  {
   "cell_type": "code",
   "execution_count": 24,
   "metadata": {},
   "outputs": [
    {
     "data": {
      "text/plain": [
       "1024"
      ]
     },
     "execution_count": 24,
     "metadata": {},
     "output_type": "execute_result"
    }
   ],
   "source": [
    "# Return Statement\n",
    "\n",
    "def return_state(a,b):\n",
    "    return a**b\n",
    "\n",
    "return_state(2,10)"
   ]
  },
  {
   "cell_type": "code",
   "execution_count": 25,
   "metadata": {},
   "outputs": [
    {
     "data": {
      "text/plain": [
       "(1024, 12)"
      ]
     },
     "execution_count": 25,
     "metadata": {},
     "output_type": "execute_result"
    }
   ],
   "source": [
    "# Return Multi-Parameters\n",
    "\n",
    "def return_state(a,b):\n",
    "    return a**b, a+b\n",
    "\n",
    "return_state(2,10)"
   ]
  },
  {
   "cell_type": "code",
   "execution_count": 26,
   "metadata": {},
   "outputs": [
    {
     "name": "stdout",
     "output_type": "stream",
     "text": [
      "Thank You\n"
     ]
    }
   ],
   "source": [
    "print(\"Thank You\")"
   ]
  }
 ],
 "metadata": {
  "kernelspec": {
   "display_name": "Python 3",
   "language": "python",
   "name": "python3"
  },
  "language_info": {
   "codemirror_mode": {
    "name": "ipython",
    "version": 3
   },
   "file_extension": ".py",
   "mimetype": "text/x-python",
   "name": "python",
   "nbconvert_exporter": "python",
   "pygments_lexer": "ipython3",
   "version": "3.12.7"
  }
 },
 "nbformat": 4,
 "nbformat_minor": 2
}
