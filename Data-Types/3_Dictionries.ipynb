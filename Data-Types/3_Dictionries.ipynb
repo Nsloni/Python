{
 "cells": [
  {
   "cell_type": "code",
   "execution_count": 1,
   "metadata": {},
   "outputs": [
    {
     "name": "stdout",
     "output_type": "stream",
     "text": [
      "HELLO NS-LONI Good Morning\n"
     ]
    }
   ],
   "source": [
    "print(\"HELLO NS-LONI Good Morning\")"
   ]
  },
  {
   "cell_type": "code",
   "execution_count": 2,
   "metadata": {},
   "outputs": [
    {
     "name": "stdout",
     "output_type": "stream",
     "text": [
      "<class 'dict'>\n"
     ]
    }
   ],
   "source": [
    "# Dictionary are the un-order collection of items store vallue in key-val pairs\n",
    "# Key unique and im-muteable\n",
    "\n",
    "## Creation of dictionary\n",
    "\n",
    "dic = {}\n",
    "print(type(dic))"
   ]
  },
  {
   "cell_type": "code",
   "execution_count": 3,
   "metadata": {},
   "outputs": [
    {
     "name": "stdout",
     "output_type": "stream",
     "text": [
      "{'name': 'nsloni', 'age': 20, 'grade': 9}\n"
     ]
    }
   ],
   "source": [
    "dict = {\"name\": \"nsloni\", \"age\": 20, \"grade\":9}\n",
    "print(dict)"
   ]
  },
  {
   "cell_type": "code",
   "execution_count": null,
   "metadata": {},
   "outputs": [
    {
     "name": "stdout",
     "output_type": "stream",
     "text": [
      "{'name': 'NS LONI', 'age': 20}\n"
     ]
    }
   ],
   "source": [
    "# Single ket Eg\n",
    "\n",
    "dict = {\"name\": \"nsloni\", \"age\": 20, \"name\":\"NS LONI\"}\n",
    "print(dict)"
   ]
  },
  {
   "cell_type": "code",
   "execution_count": 5,
   "metadata": {},
   "outputs": [
    {
     "name": "stdout",
     "output_type": "stream",
     "text": [
      "{'name': 'nsloni', 'age': 20, 'grade': 'A'}\n",
      "nsloni\n",
      "20\n"
     ]
    }
   ],
   "source": [
    "## Accesing dictionary elements\n",
    "\n",
    "dict = {\"name\": \"nsloni\", \"age\": 20, \"grade\":\"A\"}\n",
    "\n",
    "print(dict)\n",
    "\n",
    "print(dict[\"name\"])\n",
    "\n",
    "print(dict['age'])\n"
   ]
  },
  {
   "cell_type": "code",
   "execution_count": 12,
   "metadata": {},
   "outputs": [
    {
     "name": "stdout",
     "output_type": "stream",
     "text": [
      "nsloni\n",
      "None\n",
      "NOT AVAILABLE SEEE ABOVE\n"
     ]
    }
   ],
   "source": [
    "# Accesing using get() method\n",
    "student = {\"name\": \"nsloni\", \"age\": 20, \"grade\":\"A\"}\n",
    "\n",
    "print(student.get(\"name\"))\n",
    "print(student.get(\"last_name\"))\n",
    "print(student.get(\"first_name\", \"NOT AVAILABLE SEEE ABOVE\"))"
   ]
  },
  {
   "cell_type": "code",
   "execution_count": 13,
   "metadata": {},
   "outputs": [
    {
     "name": "stdout",
     "output_type": "stream",
     "text": [
      "{'name': 'nsloni', 'age': 20, 'grade': 'A'}\n"
     ]
    }
   ],
   "source": [
    "# Modify Dictionary Element\n",
    "\n",
    "## Dict are Im-mutable, add, update, delete\n",
    "\n",
    "print(student)"
   ]
  },
  {
   "cell_type": "code",
   "execution_count": 1,
   "metadata": {},
   "outputs": [
    {
     "name": "stdout",
     "output_type": "stream",
     "text": [
      "{'name': 'nsloni', 'age': 20.5, 'grade': 'A', 'Adr': 'Bijapur'}\n"
     ]
    }
   ],
   "source": [
    "#Up-date\n",
    "student = {\"name\": \"nsloni\", \"age\": 20, \"grade\":\"A\"}\n",
    "\n",
    "student[\"age\"] = 20.5\n",
    "\n",
    "student[\"Adr\"] = \"Bijapur\"\n",
    "\n",
    "print(student)"
   ]
  },
  {
   "cell_type": "code",
   "execution_count": 3,
   "metadata": {},
   "outputs": [
    {
     "name": "stdout",
     "output_type": "stream",
     "text": [
      "{'name': 'nsloni', 'age': 20.5, 'Adr': 'Bijapur'}\n"
     ]
    }
   ],
   "source": [
    "# Delete\n",
    "\n",
    "del student['grade']\n",
    "\n",
    "print(student)"
   ]
  },
  {
   "cell_type": "code",
   "execution_count": 7,
   "metadata": {},
   "outputs": [
    {
     "name": "stdout",
     "output_type": "stream",
     "text": [
      "dict_keys(['name', 'age', 'Adr'])\n",
      "dict_values(['nsloni', 20.5, 'Bijapur'])\n",
      "\n",
      "dict_items([('name', 'nsloni'), ('age', 20.5), ('Adr', 'Bijapur')])\n"
     ]
    }
   ],
   "source": [
    "## Dictionary Methods\n",
    "\n",
    "keys = student.keys()\n",
    "print(keys)\n",
    "\n",
    "values = student.values()\n",
    "print(values)\n",
    "\n",
    "print()\n",
    "\n",
    "items = student.items()\n",
    "print(items)"
   ]
  },
  {
   "cell_type": "code",
   "execution_count": 8,
   "metadata": {},
   "outputs": [
    {
     "name": "stdout",
     "output_type": "stream",
     "text": [
      "{'name': 'nsloni', 'age': 20.5, 'Adr': 'Bijapur'}\n",
      "{'name': 'nsloni', 'age': 20.5, 'Adr': 'Bijapur'}\n"
     ]
    }
   ],
   "source": [
    "## Shallow Copy\n",
    "\n",
    "student_copy = student\n",
    "print(student)\n",
    "print(student_copy)"
   ]
  },
  {
   "cell_type": "code",
   "execution_count": 9,
   "metadata": {},
   "outputs": [
    {
     "name": "stdout",
     "output_type": "stream",
     "text": [
      "{'name': 'NSLONI--2', 'age': 20.5, 'Adr': 'Bijapur'}\n",
      "{'name': 'NSLONI--2', 'age': 20.5, 'Adr': 'Bijapur'}\n"
     ]
    }
   ],
   "source": [
    "## Shallow Copy\n",
    "\n",
    "student[\"name\"] = \"NSLONI--2\"\n",
    "print(student)\n",
    "print(student_copy)"
   ]
  },
  {
   "cell_type": "code",
   "execution_count": 11,
   "metadata": {},
   "outputs": [
    {
     "name": "stdout",
     "output_type": "stream",
     "text": [
      "{'name': 'NSLONI--2', 'age': 20.5, 'Adr': 'Bijapur'}\n",
      "{'name': 'NSLONI--2', 'age': 20.5, 'Adr': 'Bijapur'}\n"
     ]
    }
   ],
   "source": [
    "s_copy = student.copy()\n",
    "print(s_copy)\n",
    "\n",
    "s_copy1 = student_copy.copy()\n",
    "print(s_copy1)"
   ]
  },
  {
   "cell_type": "code",
   "execution_count": 14,
   "metadata": {},
   "outputs": [
    {
     "name": "stdout",
     "output_type": "stream",
     "text": [
      "name\n",
      "age\n",
      "grade\n"
     ]
    }
   ],
   "source": [
    "## Iterating Over Dict\n",
    "# Loop to use\n",
    "student = {\"name\": \"nsloni\", \"age\": 20, \"grade\":\"A\"}\n",
    "\n",
    "for key in student.keys():\n",
    "    print(key)"
   ]
  },
  {
   "cell_type": "code",
   "execution_count": 15,
   "metadata": {},
   "outputs": [
    {
     "name": "stdout",
     "output_type": "stream",
     "text": [
      "nsloni\n",
      "20\n",
      "A\n"
     ]
    }
   ],
   "source": [
    "student = {\"name\": \"nsloni\", \"age\": 20, \"grade\":\"A\"}\n",
    "\n",
    "for values in student.values():\n",
    "    print(values)"
   ]
  },
  {
   "cell_type": "code",
   "execution_count": 16,
   "metadata": {},
   "outputs": [
    {
     "name": "stdout",
     "output_type": "stream",
     "text": [
      "name:nsloni\n",
      "age:20\n",
      "grade:A\n"
     ]
    }
   ],
   "source": [
    "for key, value in student.items():\n",
    "    print(f\"{key}:{value}\")"
   ]
  },
  {
   "cell_type": "code",
   "execution_count": 20,
   "metadata": {},
   "outputs": [
    {
     "name": "stdout",
     "output_type": "stream",
     "text": [
      "{'student1': {'name': 'NSLONI--1', 'age': 21}, 'student2': {'name': 'NSLONI--2', 'age': 22}, 'student3': {'name': 'NSLONI--3', 'age': 23}, 'student4': {'name': 'NSLONI--4', 'age': 24}}\n",
      "\n",
      "NSLONI--2\n",
      "22\n"
     ]
    }
   ],
   "source": [
    "## Nested Dict\n",
    "\n",
    "student = {\n",
    "    \"student1\":{\"name\":\"NSLONI--1\", \"age\":21},\n",
    "    \"student2\":{\"name\":\"NSLONI--2\", \"age\":22},\n",
    "    \"student3\":{\"name\":\"NSLONI--3\", \"age\":23},\n",
    "    \"student4\":{\"name\":\"NSLONI--4\", \"age\":24},\n",
    "}\n",
    "print(student)\n",
    "print()\n",
    "print(student[\"student2\"][\"name\"])\n",
    "print(student[\"student2\"][\"age\"])"
   ]
  },
  {
   "cell_type": "code",
   "execution_count": 21,
   "metadata": {},
   "outputs": [
    {
     "name": "stdout",
     "output_type": "stream",
     "text": [
      "student1:{'name': 'NSLONI--1', 'age': 21}\n",
      "name:NSLONI--1\n",
      "age:21\n",
      "student2:{'name': 'NSLONI--2', 'age': 22}\n",
      "name:NSLONI--2\n",
      "age:22\n",
      "student3:{'name': 'NSLONI--3', 'age': 23}\n",
      "name:NSLONI--3\n",
      "age:23\n",
      "student4:{'name': 'NSLONI--4', 'age': 24}\n",
      "name:NSLONI--4\n",
      "age:24\n"
     ]
    }
   ],
   "source": [
    "## Nested Dict\n",
    "\n",
    "for student_id, student_info in student.items():\n",
    "    print(f\"{student_id}:{student_info}\")\n",
    "    \n",
    "    for key, value in student_info.items():\n",
    "        print(f\"{key}:{value}\")"
   ]
  },
  {
   "cell_type": "code",
   "execution_count": 22,
   "metadata": {},
   "outputs": [
    {
     "name": "stdout",
     "output_type": "stream",
     "text": [
      "{0: 0, 1: 1, 2: 4, 3: 9, 4: 16}\n"
     ]
    }
   ],
   "source": [
    "## Dictionary Compherhension\n",
    "\n",
    "## key:value\n",
    "\n",
    "squ = {i:i**2 for i in range(5)}\n",
    "print(squ)"
   ]
  },
  {
   "cell_type": "code",
   "execution_count": 24,
   "metadata": {},
   "outputs": [
    {
     "name": "stdout",
     "output_type": "stream",
     "text": [
      "{0: 0, 2: 4, 4: 16, 6: 36, 8: 64}\n"
     ]
    }
   ],
   "source": [
    "squ = {i:i**2 for i in range(10) if i%2==0}\n",
    "print(squ)"
   ]
  },
  {
   "cell_type": "code",
   "execution_count": 29,
   "metadata": {},
   "outputs": [
    {
     "name": "stdout",
     "output_type": "stream",
     "text": [
      "{1: 13, 2: 6, 3: 7, 4: 5, 9: 1}\n"
     ]
    }
   ],
   "source": [
    "## Ex-1\n",
    "\n",
    "# count he frequency of element in list\n",
    "\n",
    "num = [1,1,1,1,2,1,1,1,1,1,1,1,2,2,3,3,3,4,1,1,2,2,2,4,4,3,3,3,3,9,4,4]\n",
    "\n",
    "frequency = {}\n",
    "\n",
    "for i in num:\n",
    "    if i in frequency:\n",
    "        frequency[i]+= 1\n",
    "    else:\n",
    "        frequency[i]=1\n",
    "print(frequency)            \n",
    "        "
   ]
  },
  {
   "cell_type": "code",
   "execution_count": null,
   "metadata": {},
   "outputs": [
    {
     "name": "stdout",
     "output_type": "stream",
     "text": [
      "{'a': 2, 'b': 2, 'c': 6}\n"
     ]
    }
   ],
   "source": [
    "## merge\n",
    "\n",
    "dict1 = {'a':2, 'b':5}\n",
    "dict2 = {'b':2, 'c':6}\n",
    "\n",
    "merge = {**dict1, **dict2}\n",
    "print(merge)\n",
    "\n",
    "# {'a': 2, 'b': 2, 'c': 6}"
   ]
  },
  {
   "cell_type": "code",
   "execution_count": 1,
   "metadata": {},
   "outputs": [
    {
     "name": "stdout",
     "output_type": "stream",
     "text": [
      "Thank You\n"
     ]
    }
   ],
   "source": [
    "print(\"Thank You\")"
   ]
  }
 ],
 "metadata": {
  "kernelspec": {
   "display_name": "Python 3",
   "language": "python",
   "name": "python3"
  },
  "language_info": {
   "codemirror_mode": {
    "name": "ipython",
    "version": 3
   },
   "file_extension": ".py",
   "mimetype": "text/x-python",
   "name": "python",
   "nbconvert_exporter": "python",
   "pygments_lexer": "ipython3",
   "version": "3.12.7"
  }
 },
 "nbformat": 4,
 "nbformat_minor": 2
}
