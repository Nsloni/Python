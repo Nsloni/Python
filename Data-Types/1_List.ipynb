{
 "cells": [
  {
   "cell_type": "code",
   "execution_count": 1,
   "metadata": {},
   "outputs": [
    {
     "name": "stdout",
     "output_type": "stream",
     "text": [
      "HELLO NSLONI\n"
     ]
    }
   ],
   "source": [
    "print(\"HELLO NSLONI\")"
   ]
  },
  {
   "cell_type": "code",
   "execution_count": 1,
   "metadata": {},
   "outputs": [
    {
     "name": "stdout",
     "output_type": "stream",
     "text": [
      "<class 'list'>\n"
     ]
    }
   ],
   "source": [
    "# List\n",
    "\n",
    "ls = []\n",
    "print(type(ls))"
   ]
  },
  {
   "cell_type": "code",
   "execution_count": 2,
   "metadata": {},
   "outputs": [
    {
     "name": "stdout",
     "output_type": "stream",
     "text": [
      "['NSLONI', 'Student', 20, True]\n"
     ]
    }
   ],
   "source": [
    "names = [\"NSLONI\", \"Student\",20, True]\n",
    "print(names)"
   ]
  },
  {
   "cell_type": "code",
   "execution_count": null,
   "metadata": {},
   "outputs": [
    {
     "name": "stdout",
     "output_type": "stream",
     "text": [
      "['apple', 'cherry', 'kiwi', 'banana', 'orange', 'gauva']\n",
      "apple\n",
      "kiwi\n",
      "gauva\n",
      "['gauva', 'orange', 'banana', 'kiwi', 'cherry', 'apple']\n",
      "['apple', 'cherry', 'kiwi', 'banana', 'orange', 'gauva']\n",
      "['orange']\n",
      "['cherry', 'kiwi', 'banana', 'orange']\n"
     ]
    }
   ],
   "source": [
    "# Accesing List Element\n",
    "\n",
    "fruits = [\"apple\", \"cherry\", \"kiwi\",\"banana\", \"orange\",\"gauva\"]\n",
    "\n",
    "print(fruits)\n",
    "\n",
    "print(fruits[0])\n",
    "\n",
    "print(fruits[2])\n",
    "\n",
    "print(fruits[-1]) # gauva\n",
    "\n",
    "print(fruits[::-1]) # ['gauva', 'orange', 'banana', 'kiwi', 'cherry', 'apple']\n",
    "\n",
    "print(fruits[0:])\n",
    "\n",
    "print(fruits[4:5])\n",
    "\n",
    "print(fruits[-5:-1]) # ['cherry', 'kiwi', 'banana', 'orange']"
   ]
  },
  {
   "cell_type": "code",
   "execution_count": 12,
   "metadata": {},
   "outputs": [
    {
     "name": "stdout",
     "output_type": "stream",
     "text": [
      "['WATERMELON', 'cherry', 'kiwi', 'banana', 'orange', 'gauva']\n",
      "['WATERMELON', 'W', 'A', 'T', 'E', 'R', 'M', 'E', 'L', 'O', 'N']\n"
     ]
    }
   ],
   "source": [
    "# Modification\n",
    "\n",
    "fruits = [\"apple\", \"cherry\", \"kiwi\",\"banana\", \"orange\",\"gauva\"]\n",
    "\n",
    "fruits[0] = \"WATERMELON\"\n",
    "\n",
    "print(fruits)\n",
    "\n",
    "fruits[1:] = \"WATERMELON\"\n",
    "print(fruits)"
   ]
  },
  {
   "cell_type": "code",
   "execution_count": 22,
   "metadata": {},
   "outputs": [
    {
     "name": "stdout",
     "output_type": "stream",
     "text": [
      "['apple', 'cherry', 'kiwi', 'banana', 'orange', 'gauva', 'AAAAA']\n",
      "['SASASA', 'apple', 'cherry', 'kiwi', 'banana', 'orange', 'gauva', 'AAAAA']\n",
      "['apple', 'cherry', 'kiwi', 'banana', 'orange', 'gauva', 'AAAAA']\n",
      "['apple', 'cherry', 'kiwi', 'banana', 'orange', 'gauva']\n",
      "0\n",
      "1\n",
      "['apple', 'banana', 'cherry', 'gauva', 'kiwi', 'orange']\n",
      "['orange', 'kiwi', 'gauva', 'cherry', 'banana', 'apple']\n",
      "[]\n"
     ]
    }
   ],
   "source": [
    "## List Methods\n",
    "\n",
    "fruits = [\"apple\", \"cherry\", \"kiwi\",\"banana\", \"orange\",\"gauva\"]\n",
    "\n",
    "fruits.append(\"AAAAA\") # End\n",
    "print(fruits)\n",
    "\n",
    "fruits.insert(0, \"SASASA\")\n",
    "print(fruits)\n",
    "\n",
    "fruits.remove(\"SASASA\") #Remove\n",
    "print(fruits)\n",
    "\n",
    "fruits.pop()\n",
    "print(fruits) #Remove last\n",
    "\n",
    "idx = fruits.index(\"apple\")\n",
    "print(idx)\n",
    "\n",
    "print(fruits.count(\"apple\"))\n",
    "\n",
    "fruits.sort()\n",
    "print(fruits)\n",
    "\n",
    "fruits.reverse()\n",
    "print(fruits)\n",
    "\n",
    "fruits.clear()\n",
    "print(fruits)\n"
   ]
  },
  {
   "cell_type": "code",
   "execution_count": 25,
   "metadata": {},
   "outputs": [
    {
     "name": "stdout",
     "output_type": "stream",
     "text": [
      "[2, 3, 4, 5, 6]\n",
      "[0, 1, 2]\n",
      "[5, 6, 7, 8, 9, 10]\n",
      "[0, 2, 4, 6, 8, 10]\n",
      "[10, 9, 8, 7, 6, 5, 4, 3, 2, 1, 0]\n",
      "[10, 8, 6, 4, 2, 0]\n"
     ]
    }
   ],
   "source": [
    "# Slicing list\n",
    "\n",
    "number = [0,1,2,3,4,5,6,7,8,9,10]\n",
    "\n",
    "print(number[2:7])\n",
    "\n",
    "print(number[:3])\n",
    "\n",
    "print(number[5:])\n",
    "\n",
    "print(number[::2]) # [0, 2, 4, 6, 8, 10]\n",
    "\n",
    "print(number[::-1]) # :: --> all the elements\n",
    "\n",
    "print(number[::-2])"
   ]
  },
  {
   "cell_type": "code",
   "execution_count": 28,
   "metadata": {},
   "outputs": [
    {
     "name": "stdout",
     "output_type": "stream",
     "text": [
      "0 10\n",
      "1 11\n",
      "2 12\n",
      "3 13\n",
      "4 14\n",
      "5 15\n",
      "6 16\n",
      "7 17\n",
      "8 18\n",
      "9 19\n",
      "10 20\n"
     ]
    }
   ],
   "source": [
    "## iterating Over List\n",
    "\n",
    "number = [10,11,12,13,14,15,16,17,18,19,20]\n",
    "\n",
    "for index,number in enumerate(number):\n",
    "    print(index, number)"
   ]
  },
  {
   "cell_type": "code",
   "execution_count": null,
   "metadata": {},
   "outputs": [
    {
     "name": "stdout",
     "output_type": "stream",
     "text": [
      "[0, 1, 4, 9, 16, 25, 36, 49, 64, 81]\n"
     ]
    }
   ],
   "source": [
    "# MOST IMPORTANT\n",
    "\n",
    "## List Comprension--->  # More Memory\n",
    "list=[]\n",
    "for i in range(10):\n",
    "    list.append(i**2)  # More Memory\n",
    "print(list)    "
   ]
  },
  {
   "cell_type": "code",
   "execution_count": 30,
   "metadata": {},
   "outputs": [
    {
     "data": {
      "text/plain": [
       "[0, 1, 4, 9, 16, 25, 36, 49, 64, 81]"
      ]
     },
     "execution_count": 30,
     "metadata": {},
     "output_type": "execute_result"
    }
   ],
   "source": [
    " # Less Memory\n",
    " \n",
    "[i**2 for i in range(10)]"
   ]
  },
  {
   "cell_type": "code",
   "execution_count": null,
   "metadata": {},
   "outputs": [],
   "source": [
    "'''\n",
    "1. [expresion for item in iterable]\n",
    "\n",
    "2. [expresion for item in iterable if condition]\n",
    "'''"
   ]
  },
  {
   "cell_type": "code",
   "execution_count": null,
   "metadata": {},
   "outputs": [
    {
     "name": "stdout",
     "output_type": "stream",
     "text": [
      "[0, 1, 4, 9, 16, 25, 36, 49, 64, 81]\n"
     ]
    }
   ],
   "source": [
    "# 1. [expresion for item in iterable]\n",
    "\n",
    "sqaure = [i**2 for i in range(10)]\n",
    "print(sqaure)"
   ]
  },
  {
   "cell_type": "code",
   "execution_count": null,
   "metadata": {},
   "outputs": [
    {
     "name": "stdout",
     "output_type": "stream",
     "text": [
      "[0, 4, 16, 36, 64]\n"
     ]
    }
   ],
   "source": [
    "# 2. [expresion for item in iterable if condition]\n",
    "\n",
    "sqaure = [i**2 for i in range(10) if i%2==0]\n",
    "print(sqaure)"
   ]
  },
  {
   "cell_type": "code",
   "execution_count": 36,
   "metadata": {},
   "outputs": [
    {
     "name": "stdout",
     "output_type": "stream",
     "text": [
      "[[1, 'A'], [1, 'B'], [2, 'A'], [2, 'B']]\n"
     ]
    }
   ],
   "source": [
    "l1 = [1,2]\n",
    "l2 = [\"A\",\"B\"]\n",
    "\n",
    "pair = [[i,j] for i in l1 for j in l2]\n",
    "print(pair)"
   ]
  },
  {
   "cell_type": "code",
   "execution_count": null,
   "metadata": {},
   "outputs": [],
   "source": [
    "## List Compreshesion with fu nction calls\n",
    "\n",
    "names = [\"NS-LONI\", \"SS-LONI\", \"GS-LONI\"]\n",
    "lengths = [len(name) for name in names]\n",
    "print(lengths)"
   ]
  },
  {
   "cell_type": "code",
   "execution_count": 51,
   "metadata": {},
   "outputs": [
    {
     "name": "stdout",
     "output_type": "stream",
     "text": [
      "Thank YOU............\n"
     ]
    }
   ],
   "source": [
    "print(\"Thank YOU............\")"
   ]
  }
 ],
 "metadata": {
  "kernelspec": {
   "display_name": "Python 3",
   "language": "python",
   "name": "python3"
  },
  "language_info": {
   "codemirror_mode": {
    "name": "ipython",
    "version": 3
   },
   "file_extension": ".py",
   "mimetype": "text/x-python",
   "name": "python",
   "nbconvert_exporter": "python",
   "pygments_lexer": "ipython3",
   "version": "3.12.7"
  }
 },
 "nbformat": 4,
 "nbformat_minor": 2
}
