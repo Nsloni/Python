{
 "cells": [
  {
   "cell_type": "code",
   "execution_count": 1,
   "metadata": {},
   "outputs": [
    {
     "name": "stdout",
     "output_type": "stream",
     "text": [
      "Hello NS LONI\n"
     ]
    }
   ],
   "source": [
    "print(\"Hello NS LONI\")"
   ]
  },
  {
   "cell_type": "code",
   "execution_count": 9,
   "metadata": {},
   "outputs": [
    {
     "name": "stdout",
     "output_type": "stream",
     "text": [
      "['Work-1', 'Work-2', 'Work-3', 'Work-4']\n",
      "['Work-1', 'Work-2', 'Work-3', 'Work-4', 'Work-5']\n",
      "['Work-1', 'Work-2', 'Work-3', 'Work-4', 'Work-5', 'Work-6']\n",
      "['Work-1', 'Work-2', 'Work-3', 'Work-4', 'Work-5']\n",
      "Don't Forget a ----> Work-4 <---- Complete it Today\n",
      "To-Do List Remaining\n",
      "Work-1\n",
      "Work-2\n",
      "Work-3\n",
      "Work-4\n",
      "Work-5\n",
      "Thank You\n"
     ]
    }
   ],
   "source": [
    "# EX-1\n",
    "\n",
    "# Manage A \"TO-DO\" List\n",
    "\n",
    "to_do_list = [\"Work-1\",\"Work-2\",\"Work-3\",\"Work-4\"]\n",
    "print(to_do_list)\n",
    "\n",
    "to_do_list.append(\"Work-5\")\n",
    "print(to_do_list)\n",
    "\n",
    "to_do_list.append(\"Work-6\")\n",
    "print(to_do_list)\n",
    "\n",
    "to_do_list.remove(\"Work-6\")\n",
    "print(to_do_list)\n",
    "\n",
    "if \"Work-4\" in to_do_list:\n",
    "    print(\"Don't Forget a ----> Work-4 <---- Complete it Today\")\n",
    "\n",
    "print(\"To-Do List Remaining\")\n",
    "\n",
    "for task in to_do_list:\n",
    "    print(f\"{task}\")\n",
    "    \n",
    "print(\"Thank You\")    \n",
    "    "
   ]
  },
  {
   "cell_type": "code",
   "execution_count": 11,
   "metadata": {},
   "outputs": [
    {
     "name": "stdout",
     "output_type": "stream",
     "text": [
      "Avg is : 90.17\n",
      "High: 100\n",
      "lowest: 78\n"
     ]
    }
   ],
   "source": [
    "# Organization Student Grades\n",
    "\n",
    "grades = [85, 92, 78, 98, 88]\n",
    "\n",
    "grades.append(100)\n",
    "\n",
    "avg_grade = sum(grades) / len(grades)\n",
    "print(f\"Avg is : {avg_grade:.2f}\")\n",
    "\n",
    "high_score = max(grades)\n",
    "low_grade = min(grades)\n",
    "\n",
    "print(f\"High: {high_score}\")\n",
    "print(f\"lowest: {low_grade}\")\n"
   ]
  },
  {
   "cell_type": "code",
   "execution_count": 13,
   "metadata": {},
   "outputs": [
    {
     "name": "stdout",
     "output_type": "stream",
     "text": [
      "['Bananas', 'Oranges', 'Graphes', 'asasasasas']\n",
      "Oranges in inventory\n",
      "inventory List: \n",
      " - Bananas\n",
      " - Oranges\n",
      " - Graphes\n",
      " - asasasasas\n"
     ]
    }
   ],
   "source": [
    "# Managing An Inventory [Like E-Commerce]\n",
    "\n",
    "inventory = [\"Apple\", \"Bananas\", \"Oranges\", \"Graphes\"]\n",
    "\n",
    "inventory.append(\"asasasasas\")\n",
    "\n",
    "inventory.remove(\"Apple\")\n",
    "\n",
    "print(inventory)\n",
    "\n",
    "\n",
    "# Check if there or not\n",
    "\n",
    "item = \"Oranges\"\n",
    "if item in inventory:\n",
    "    print(f\"{item} in inventory\")\n",
    "    \n",
    "else:\n",
    "    print(f\"{item} not in inventory\")    \n",
    "    \n",
    "print(\"inventory List: \")\n",
    "for item in inventory:\n",
    "    print(f\" - {item}\")    "
   ]
  },
  {
   "cell_type": "code",
   "execution_count": 16,
   "metadata": {},
   "outputs": [
    {
     "name": "stdout",
     "output_type": "stream",
     "text": [
      "Total Positive FeedBack is : 2\n",
      "User FeedBack\n",
      "-----> good\n",
      "-----> great\n",
      "-----> excellent\n",
      "-----> Bad\n"
     ]
    }
   ],
   "source": [
    "# Collecting  User FeedBack\n",
    "\n",
    "feedback = [\"good\", \"great\", \"excellent\"]\n",
    "\n",
    "feedback.append(\"Bad\")\n",
    "\n",
    "positive_feedback = sum(1 for comment in feedback if \"great\" in comment.lower() or \"good\" in comment.lower())\n",
    "print(f\"Total Positive FeedBack is : {positive_feedback}\")\n",
    "      \n",
    "print(\"User FeedBack\")\n",
    "\n",
    "for comment in feedback:\n",
    "    print(f\"-----> {comment}\")"
   ]
  },
  {
   "cell_type": "code",
   "execution_count": null,
   "metadata": {},
   "outputs": [],
   "source": []
  }
 ],
 "metadata": {
  "kernelspec": {
   "display_name": "Python 3",
   "language": "python",
   "name": "python3"
  },
  "language_info": {
   "codemirror_mode": {
    "name": "ipython",
    "version": 3
   },
   "file_extension": ".py",
   "mimetype": "text/x-python",
   "name": "python",
   "nbconvert_exporter": "python",
   "pygments_lexer": "ipython3",
   "version": "3.12.7"
  }
 },
 "nbformat": 4,
 "nbformat_minor": 2
}
