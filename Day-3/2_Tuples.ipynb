{
 "cells": [
  {
   "cell_type": "code",
   "execution_count": null,
   "metadata": {},
   "outputs": [
    {
     "name": "stdout",
     "output_type": "stream",
     "text": [
      "<class 'tuple'>\n"
     ]
    }
   ],
   "source": [
    "# Order Collection, Immutable\n",
    "\n",
    "tup = ()\n",
    "print(type(tup)) # <class 'tuple'>"
   ]
  },
  {
   "cell_type": "code",
   "execution_count": null,
   "metadata": {},
   "outputs": [
    {
     "name": "stdout",
     "output_type": "stream",
     "text": [
      "<class 'list'>\n"
     ]
    }
   ],
   "source": [
    "print(type(list()))"
   ]
  },
  {
   "cell_type": "code",
   "execution_count": 4,
   "metadata": {},
   "outputs": [
    {
     "name": "stdout",
     "output_type": "stream",
     "text": [
      "<class 'tuple'>\n"
     ]
    }
   ],
   "source": [
    "num = tuple([1,2,3,4,5,6])\n",
    "print(type(num))"
   ]
  },
  {
   "cell_type": "code",
   "execution_count": 6,
   "metadata": {},
   "outputs": [
    {
     "name": "stdout",
     "output_type": "stream",
     "text": [
      "<class 'type'>\n"
     ]
    }
   ],
   "source": [
    "list((1,2,3,4,5))\n",
    "print(type(list))"
   ]
  },
  {
   "cell_type": "code",
   "execution_count": 7,
   "metadata": {},
   "outputs": [
    {
     "name": "stdout",
     "output_type": "stream",
     "text": [
      "('dfdf', 1, True)\n"
     ]
    }
   ],
   "source": [
    "tup = (\"dfdf\", 1, True)\n",
    "print(tup)"
   ]
  },
  {
   "cell_type": "code",
   "execution_count": null,
   "metadata": {},
   "outputs": [
    {
     "name": "stdout",
     "output_type": "stream",
     "text": [
      "1\n",
      "10\n",
      "(1, 2, 3, 4, 5, 6, 7, 8)\n"
     ]
    }
   ],
   "source": [
    "tup = (\"dfdf\", 1, True)\n",
    "print(num[0])\n",
    "print(num[-1])\n",
    "\n",
    "print(num[0:8])"
   ]
  },
  {
   "cell_type": "code",
   "execution_count": 12,
   "metadata": {},
   "outputs": [
    {
     "name": "stdout",
     "output_type": "stream",
     "text": [
      "('dfdf', 1, True, 1, 2, 3, 4, 5, 6)\n",
      "(1, 2, 3, 4, 5, 6, 1, 2, 3, 4, 5, 6, 1, 2, 3, 4, 5, 6)\n"
     ]
    }
   ],
   "source": [
    "\n",
    "# Tuple Operations\n",
    "tup = (\"dfdf\", 1, True)\n",
    "num = (1,2,3,4,5,6)\n",
    "\n",
    "concat = tup + num\n",
    "print(concat)\n",
    "\n",
    "res = num * 3\n",
    "print(res)"
   ]
  },
  {
   "cell_type": "code",
   "execution_count": 13,
   "metadata": {},
   "outputs": [
    {
     "ename": "TypeError",
     "evalue": "'tuple' object does not support item assignment",
     "output_type": "error",
     "traceback": [
      "\u001b[1;31m---------------------------------------------------------------------------\u001b[0m",
      "\u001b[1;31mTypeError\u001b[0m                                 Traceback (most recent call last)",
      "Cell \u001b[1;32mIn[13], line 4\u001b[0m\n\u001b[0;32m      1\u001b[0m \u001b[38;5;66;03m# Im-mutable\u001b[39;00m\n\u001b[0;32m      3\u001b[0m num \u001b[38;5;241m=\u001b[39m (\u001b[38;5;241m1\u001b[39m,\u001b[38;5;241m2\u001b[39m,\u001b[38;5;241m3\u001b[39m,\u001b[38;5;241m4\u001b[39m,\u001b[38;5;241m5\u001b[39m,\u001b[38;5;241m6\u001b[39m)\n\u001b[1;32m----> 4\u001b[0m \u001b[43mnum\u001b[49m\u001b[43m[\u001b[49m\u001b[38;5;241;43m1\u001b[39;49m\u001b[43m]\u001b[49m \u001b[38;5;241m=\u001b[39m \u001b[38;5;124m\"\u001b[39m\u001b[38;5;124mNSLONI\u001b[39m\u001b[38;5;124m\"\u001b[39m\n\u001b[0;32m      5\u001b[0m \u001b[38;5;28mprint\u001b[39m(num)\n",
      "\u001b[1;31mTypeError\u001b[0m: 'tuple' object does not support item assignment"
     ]
    }
   ],
   "source": [
    "# Im-mutable\n",
    "\n",
    "num = (1,2,3,4,5,6)\n",
    "num[1] = \"NSLONI\"\n",
    "print(num)"
   ]
  },
  {
   "cell_type": "code",
   "execution_count": 16,
   "metadata": {},
   "outputs": [
    {
     "name": "stdout",
     "output_type": "stream",
     "text": [
      "1\n",
      "6\n"
     ]
    }
   ],
   "source": [
    "num = (1,2,3,4,5,6,7,8,9,10)\n",
    "\n",
    "print(num.count(1))\n",
    "\n",
    "print(num.index(7))"
   ]
  },
  {
   "cell_type": "code",
   "execution_count": null,
   "metadata": {},
   "outputs": [
    {
     "name": "stdout",
     "output_type": "stream",
     "text": [
      "(1, 'nsloni', 20.56)\n",
      "1\n",
      "nsloni\n",
      "20.56\n",
      "1\n",
      "[2, 3, 4, 5]\n",
      "6\n"
     ]
    }
   ],
   "source": [
    "## Packing and Un-Packing\n",
    "\n",
    "# 1.Packing\n",
    "\n",
    "tup = 1,\"nsloni\", 20.56\n",
    "print(tup)\n",
    "\n",
    "# Un-Packing\n",
    "\n",
    "a,b,c = tup\n",
    "print(a)\n",
    "print(b)\n",
    "print(c)\n",
    "'''\n",
    "1\n",
    "nsloni\n",
    "20.56\n",
    "'''\n",
    "\n",
    "# Un-Packing with * [star]\n",
    "\n",
    "nums = (1,2,3,4,5,6)\n",
    "first, *mid, last=nums\n",
    "\n",
    "print(first) # 1\n",
    "print(mid)  # [2, 3, 4, 5]\n",
    "print(last) # 6"
   ]
  },
  {
   "cell_type": "code",
   "execution_count": 25,
   "metadata": {},
   "outputs": [
    {
     "name": "stdout",
     "output_type": "stream",
     "text": [
      "((1, 2, 3, 4), (5, 6, 7, 8, 9), (12, 34, 56, 78, 90))\n"
     ]
    },
    {
     "data": {
      "text/plain": [
       "(12, 34, 56, 78)"
      ]
     },
     "execution_count": 25,
     "metadata": {},
     "output_type": "execute_result"
    }
   ],
   "source": [
    "## Nested Tuple\n",
    "\n",
    "list1 = ((1,2,3,4), (5,6,7,8,9),(12,34,56,78,90))\n",
    "print(list1)\n",
    "\n",
    "list1[2][0:4]"
   ]
  },
  {
   "cell_type": "code",
   "execution_count": 27,
   "metadata": {},
   "outputs": [
    {
     "name": "stdout",
     "output_type": "stream",
     "text": [
      "3\n"
     ]
    }
   ],
   "source": [
    "## Access Element inside TUPLE\n",
    "\n",
    "list1 = ((1,2,3,4), (5,6,7,8,9),(12,34,56,78,90))\n",
    "print(list1[0][2])"
   ]
  },
  {
   "cell_type": "code",
   "execution_count": 28,
   "metadata": {},
   "outputs": [
    {
     "name": "stdout",
     "output_type": "stream",
     "text": [
      "(1, 2, 3, 4)\n"
     ]
    }
   ],
   "source": [
    "## Access Element inside TUPLE\n",
    "\n",
    "list1 = ((1,2,3,4), (5,6,7,8,9),(12,34,56,78,90))\n",
    "print(list1[0])"
   ]
  },
  {
   "cell_type": "code",
   "execution_count": null,
   "metadata": {},
   "outputs": [],
   "source": []
  }
 ],
 "metadata": {
  "kernelspec": {
   "display_name": "Python 3",
   "language": "python",
   "name": "python3"
  },
  "language_info": {
   "codemirror_mode": {
    "name": "ipython",
    "version": 3
   },
   "file_extension": ".py",
   "mimetype": "text/x-python",
   "name": "python",
   "nbconvert_exporter": "python",
   "pygments_lexer": "ipython3",
   "version": "3.12.7"
  }
 },
 "nbformat": 4,
 "nbformat_minor": 2
}
