{
 "cells": [
  {
   "cell_type": "code",
   "execution_count": 3,
   "metadata": {},
   "outputs": [
    {
     "ename": "NameError",
     "evalue": "name 'b' is not defined",
     "output_type": "error",
     "traceback": [
      "\u001b[1;31m---------------------------------------------------------------------------\u001b[0m",
      "\u001b[1;31mNameError\u001b[0m                                 Traceback (most recent call last)",
      "Cell \u001b[1;32mIn[3], line 1\u001b[0m\n\u001b[1;32m----> 1\u001b[0m a\u001b[38;5;241m=\u001b[39m\u001b[43mb\u001b[49m\n",
      "\u001b[1;31mNameError\u001b[0m: name 'b' is not defined"
     ]
    }
   ],
   "source": [
    "a=b"
   ]
  },
  {
   "cell_type": "code",
   "execution_count": null,
   "metadata": {},
   "outputs": [
    {
     "name": "stdout",
     "output_type": "stream",
     "text": [
      "The var has not Assigned\n"
     ]
    }
   ],
   "source": [
    "try:\n",
    "    a = b \n",
    "except:\n",
    "    print(\"The var has not Assigned\")    "
   ]
  },
  {
   "cell_type": "code",
   "execution_count": 4,
   "metadata": {},
   "outputs": [
    {
     "name": "stdout",
     "output_type": "stream",
     "text": [
      "name 'b' is not defined\n"
     ]
    }
   ],
   "source": [
    "try:\n",
    "    a=b\n",
    "except NameError as ex:\n",
    "    print(ex)    "
   ]
  },
  {
   "cell_type": "code",
   "execution_count": 7,
   "metadata": {},
   "outputs": [
    {
     "ename": "ZeroDivisionError",
     "evalue": "division by zero",
     "output_type": "error",
     "traceback": [
      "\u001b[1;31m---------------------------------------------------------------------------\u001b[0m",
      "\u001b[1;31mZeroDivisionError\u001b[0m                         Traceback (most recent call last)",
      "Cell \u001b[1;32mIn[7], line 1\u001b[0m\n\u001b[1;32m----> 1\u001b[0m res \u001b[38;5;241m=\u001b[39m \u001b[38;5;241;43m1\u001b[39;49m\u001b[38;5;241;43m/\u001b[39;49m\u001b[38;5;241;43m0\u001b[39;49m\n",
      "\u001b[1;31mZeroDivisionError\u001b[0m: division by zero"
     ]
    }
   ],
   "source": [
    "res = 1/0"
   ]
  },
  {
   "cell_type": "code",
   "execution_count": 8,
   "metadata": {},
   "outputs": [
    {
     "name": "stdout",
     "output_type": "stream",
     "text": [
      "division by zero\n",
      "Please enter the Denominator > than 0\n"
     ]
    }
   ],
   "source": [
    "try:\n",
    "    res = 10/0\n",
    "except ZeroDivisionError as ex:\n",
    "    print(ex)\n",
    "    print(\"Please enter the Denominator > than 0\")    "
   ]
  },
  {
   "cell_type": "code",
   "execution_count": 10,
   "metadata": {},
   "outputs": [
    {
     "name": "stdout",
     "output_type": "stream",
     "text": [
      "name 'b' is not defined\n"
     ]
    }
   ],
   "source": [
    "try:\n",
    "    res = 10/20\n",
    "    a = b\n",
    "    \n",
    "except ZeroDivisionError as ex:\n",
    "    print(ex)\n",
    "    print(\"Please enter the Denominator > than 0\")\n",
    "    \n",
    "except Exception as ex1:\n",
    "    print(ex1)        "
   ]
  },
  {
   "cell_type": "code",
   "execution_count": 11,
   "metadata": {},
   "outputs": [
    {
     "name": "stdout",
     "output_type": "stream",
     "text": [
      "Denamo is Zero\n"
     ]
    }
   ],
   "source": [
    "try:\n",
    "    res = 10/0\n",
    "    \n",
    "except ValueError:\n",
    "    print(\"Not valid Number\") \n",
    " \n",
    "except ZeroDivisionError:\n",
    "    print(\"Denamo is Zero\")       "
   ]
  },
  {
   "cell_type": "code",
   "execution_count": 14,
   "metadata": {},
   "outputs": [
    {
     "name": "stdout",
     "output_type": "stream",
     "text": [
      "Not Divide By Zero\n"
     ]
    }
   ],
   "source": [
    "# try, except, else, block\n",
    "\n",
    "try:\n",
    "    num = int(input(\"Enter the Number: \"))\n",
    "    res = 10/num\n",
    "    \n",
    "except ValueError:\n",
    "    print(\"Not Valid Number\") \n",
    " \n",
    "except ZeroDivisionError:\n",
    "    print(\"Not Divide By Zero\")\n",
    "    \n",
    "else:\n",
    "    print(f\"The result is: {res}\")           \n",
    "    \n",
    "    "
   ]
  },
  {
   "cell_type": "code",
   "execution_count": 16,
   "metadata": {},
   "outputs": [
    {
     "name": "stdout",
     "output_type": "stream",
     "text": [
      "Not Divide By Zero\n",
      "Completed Successfully\n"
     ]
    }
   ],
   "source": [
    "## try, except, else & finally\n",
    "\n",
    "# try, except, else, block\n",
    "\n",
    "try:\n",
    "    num = int(input(\"Enter the Number: \"))\n",
    "    res = 10/num\n",
    "    \n",
    "except ValueError:\n",
    "    print(\"Not Valid Number\") \n",
    " \n",
    "except ZeroDivisionError:\n",
    "    print(\"Not Divide By Zero\")\n",
    "  \n",
    "## No error    \n",
    "else:\n",
    "    print(f\"The result is: {res}\")           \n",
    "    \n",
    "finally:\n",
    "    print(\"Completed Successfully\")    "
   ]
  },
  {
   "cell_type": "code",
   "execution_count": 19,
   "metadata": {},
   "outputs": [
    {
     "name": "stdout",
     "output_type": "stream",
     "text": [
      "File Not Exist\n",
      "Complited\n"
     ]
    }
   ],
   "source": [
    "# File with Exception\n",
    "\n",
    "try:\n",
    "    file = open('example.txt' , 'r')\n",
    "    content = file.read()\n",
    "    print(content)\n",
    "    \n",
    "except FileNotFoundError:\n",
    "    print(\"File Not Exist\")\n",
    "    \n",
    "except Exception as ex:\n",
    "    print(ex)\n",
    "        \n",
    "finally:\n",
    "    print(\"Complited\")        "
   ]
  }
 ],
 "metadata": {
  "kernelspec": {
   "display_name": "Python 3",
   "language": "python",
   "name": "python3"
  },
  "language_info": {
   "codemirror_mode": {
    "name": "ipython",
    "version": 3
   },
   "file_extension": ".py",
   "mimetype": "text/x-python",
   "name": "python",
   "nbconvert_exporter": "python",
   "pygments_lexer": "ipython3",
   "version": "3.12.8"
  }
 },
 "nbformat": 4,
 "nbformat_minor": 2
}
