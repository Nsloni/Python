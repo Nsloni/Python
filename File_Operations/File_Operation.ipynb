{
 "cells": [
  {
   "cell_type": "code",
   "execution_count": null,
   "metadata": {},
   "outputs": [
    {
     "name": "stdout",
     "output_type": "stream",
     "text": [
      "I am Ns loni \n",
      "This a file \n",
      "As Following\n",
      "CRUD Operations\n",
      "\n"
     ]
    }
   ],
   "source": [
    "# Read a File\n",
    "\n",
    "with open('read.txt', 'r') as file:\n",
    "    content = file.read()\n",
    "    print(content)"
   ]
  },
  {
   "cell_type": "code",
   "execution_count": null,
   "metadata": {},
   "outputs": [
    {
     "name": "stdout",
     "output_type": "stream",
     "text": [
      "I am Ns loni \n",
      "\n",
      "This a file \n",
      "\n",
      "As Following\n",
      "\n",
      "CRUD Operations\n",
      "\n"
     ]
    }
   ],
   "source": [
    "## Read A File Line By Line\n",
    "\n",
    "with open('read.txt', 'r') as file:\n",
    "    for line in file:\n",
    "        print(line)"
   ]
  },
  {
   "cell_type": "code",
   "execution_count": null,
   "metadata": {},
   "outputs": [],
   "source": [
    "### Writing a File\n",
    "\n",
    "with open('write.txt', 'w')as file:\n",
    "    file.write('Hello NS LONI\\n')\n",
    "    file.write('Second Line...\\n')"
   ]
  },
  {
   "cell_type": "code",
   "execution_count": 8,
   "metadata": {},
   "outputs": [],
   "source": [
    "### Writing a File without Overwrite\n",
    "\n",
    "with open('write.txt', 'a') as file:\n",
    "        file.write('Hello NS LONI\\n')\n",
    "        file.write('Second Line..with out Over Write.')\n"
   ]
  },
  {
   "cell_type": "code",
   "execution_count": null,
   "metadata": {},
   "outputs": [],
   "source": [
    "lines = ['1st line\\n', '2nd line\\n', '3rd line']\n",
    "\n",
    "with open('write.txt', 'a') as file:  # a--> append\n",
    "    file.writelines(lines)"
   ]
  },
  {
   "cell_type": "code",
   "execution_count": 10,
   "metadata": {},
   "outputs": [],
   "source": [
    "# Binary Files [ .bin]\n",
    "\n",
    "data = b'\\x00\\x01\\x02\\x03\\x04'\n",
    "\n",
    "with open('binary.bin', 'wb') as file: # write bin\n",
    "    file.write(data)"
   ]
  },
  {
   "cell_type": "code",
   "execution_count": 11,
   "metadata": {},
   "outputs": [
    {
     "name": "stdout",
     "output_type": "stream",
     "text": [
      "b'\\x00\\x01\\x02\\x03\\x04'\n"
     ]
    }
   ],
   "source": [
    "## Reading a bin File/ Binary File\n",
    "\n",
    "with open('binary.bin', 'rb') as file:\n",
    "    content = file.read()\n",
    "    print(content)"
   ]
  },
  {
   "cell_type": "code",
   "execution_count": null,
   "metadata": {},
   "outputs": [
    {
     "name": "stdout",
     "output_type": "stream",
     "text": [
      "Hello NS LONI\n",
      "w+ --> is read & write Both function\n",
      "\n"
     ]
    }
   ],
   "source": [
    "## Reading & writing\n",
    "\n",
    "with open ('read.txt', 'w+') as file:\n",
    "    file.write(\"Hello NS LONI\\n\")\n",
    "    file.write(\"w+ --> is read & write Both function\\n\")\n",
    "\n",
    "    file.seek(0) # most imp then only print\n",
    "    \n",
    "    print(file.read())   "
   ]
  },
  {
   "cell_type": "code",
   "execution_count": 20,
   "metadata": {},
   "outputs": [
    {
     "name": "stdout",
     "output_type": "stream",
     "text": [
      "TQ\n"
     ]
    }
   ],
   "source": [
    "print(\"TQ\")"
   ]
  }
 ],
 "metadata": {
  "kernelspec": {
   "display_name": "Python 3",
   "language": "python",
   "name": "python3"
  },
  "language_info": {
   "codemirror_mode": {
    "name": "ipython",
    "version": 3
   },
   "file_extension": ".py",
   "mimetype": "text/x-python",
   "name": "python",
   "nbconvert_exporter": "python",
   "pygments_lexer": "ipython3",
   "version": "3.12.8"
  }
 },
 "nbformat": 4,
 "nbformat_minor": 2
}
